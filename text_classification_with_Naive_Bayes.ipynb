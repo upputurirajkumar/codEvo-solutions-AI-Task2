{
  "nbformat": 4,
  "nbformat_minor": 0,
  "metadata": {
    "colab": {
      "provenance": [],
      "authorship_tag": "ABX9TyNRjD8TJS3Fl5Dl6lIO8YOa",
      "include_colab_link": true
    },
    "kernelspec": {
      "name": "python3",
      "display_name": "Python 3"
    },
    "language_info": {
      "name": "python"
    }
  },
  "cells": [
    {
      "cell_type": "markdown",
      "metadata": {
        "id": "view-in-github",
        "colab_type": "text"
      },
      "source": [
        "<a href=\"https://colab.research.google.com/github/upputurirajkumar/codEvo-solutions-Task2/blob/main/text_classification_with_Naive_Bayes.ipynb\" target=\"_parent\"><img src=\"https://colab.research.google.com/assets/colab-badge.svg\" alt=\"Open In Colab\"/></a>"
      ]
    },
    {
      "cell_type": "code",
      "execution_count": 2,
      "metadata": {
        "id": "jvhttwXFKf_o"
      },
      "outputs": [],
      "source": [
        "%matplotlib inline\n",
        "import numpy as np\n",
        "import scipy as sp\n",
        "import matplotlib as mpl\n",
        "import matplotlib.cm as cm\n",
        "import matplotlib.pyplot as plt\n",
        "import pandas as pd\n",
        "import seaborn as sns\n",
        "from six.moves import range\n",
        "\n",
        "# Setup Pandas\n",
        "pd.set_option('display.width', 500)\n",
        "pd.set_option('display.max_columns', 100)\n",
        "pd.set_option('display.notebook_repr_html', True)\n",
        "\n",
        "# Setup Seaborn\n",
        "sns.set_style(\"whitegrid\")\n",
        "sns.set_context(\"poster\")"
      ]
    },
    {
      "cell_type": "code",
      "source": [
        "import pandas as pd\n",
        "url ='https://raw.githubusercontent.com/Raizel820/Basic-Text-Classification-with-Naive-Bayes/master/critics.csv'\n",
        "critics = pd.read_csv(url)\n",
        "#let's drop rows with missing quotes\n",
        "critics = critics[~critics.quote.isnull()]\n",
        "critics.sample(10)"
      ],
      "metadata": {
        "colab": {
          "base_uri": "https://localhost:8080/",
          "height": 363
        },
        "id": "Q1lUiFFTMAwu",
        "outputId": "d3658a17-0cb5-4d10-ff6e-56954855d7a5"
      },
      "execution_count": 3,
      "outputs": [
        {
          "output_type": "execute_result",
          "data": {
            "text/plain": [
              "                   critic   fresh     imdb         publication                                              quote review_date       rtid                   title\n",
              "235            Bruce Reid   fresh   114388            Film.com  Sense and Sensibility is funny, expansive, and...  2000-01-01      10042   Sense and Sensibility\n",
              "22193       Robert Horton   fresh   128278            Film.com                            Gooding is at his best!  2000-01-01      14302                Instinct\n",
              "18203     Trevor Johnston  rotten   128442            Time Out  The end result is still short of a winning han...  2006-06-24      13868                Rounders\n",
              "6212         Janet Maslin   fresh    83511      New York Times  [It] is more memorable for its characters than...  2004-08-30      13379                 48 Hrs.\n",
              "14593        Terry Lawson  rotten   315297  Detroit Free Press  The script is credited to Sarah Thorp but has ...  2004-02-27      14784                 Twisted\n",
              "211            Hal Hinson  rotten   112641     Washington Post  Scorsese may be flailing here, but Scorsese fl...  2006-08-09      13456                  Casino\n",
              "24287  James Berardinelli   fresh    86200           ReelViews  For writer/director Paul Brickman, this was a ...  2009-04-30      13296          Risky Business\n",
              "8361        Variety Staff   fresh    26029             Variety  It's melodrama and at times far-fetched and im...  2008-08-18      17244            The 39 Steps\n",
              "9473       Rene Rodriguez   fresh   272338        Miami Herald  Punch-Drunk Love knows how to reap epic deligh...  2002-10-25      13508        Punch-Drunk Love\n",
              "17339          Jan Stuart   fresh  1075417     Washington Post  The movie has Johnson, who lifts the script ab...  2009-03-13  770685949  Race to Witch Mountain"
            ],
            "text/html": [
              "\n",
              "  <div id=\"df-bfb02231-99ab-4e1e-8c08-97b34313f21a\" class=\"colab-df-container\">\n",
              "    <div>\n",
              "<style scoped>\n",
              "    .dataframe tbody tr th:only-of-type {\n",
              "        vertical-align: middle;\n",
              "    }\n",
              "\n",
              "    .dataframe tbody tr th {\n",
              "        vertical-align: top;\n",
              "    }\n",
              "\n",
              "    .dataframe thead th {\n",
              "        text-align: right;\n",
              "    }\n",
              "</style>\n",
              "<table border=\"1\" class=\"dataframe\">\n",
              "  <thead>\n",
              "    <tr style=\"text-align: right;\">\n",
              "      <th></th>\n",
              "      <th>critic</th>\n",
              "      <th>fresh</th>\n",
              "      <th>imdb</th>\n",
              "      <th>publication</th>\n",
              "      <th>quote</th>\n",
              "      <th>review_date</th>\n",
              "      <th>rtid</th>\n",
              "      <th>title</th>\n",
              "    </tr>\n",
              "  </thead>\n",
              "  <tbody>\n",
              "    <tr>\n",
              "      <th>235</th>\n",
              "      <td>Bruce Reid</td>\n",
              "      <td>fresh</td>\n",
              "      <td>114388</td>\n",
              "      <td>Film.com</td>\n",
              "      <td>Sense and Sensibility is funny, expansive, and...</td>\n",
              "      <td>2000-01-01</td>\n",
              "      <td>10042</td>\n",
              "      <td>Sense and Sensibility</td>\n",
              "    </tr>\n",
              "    <tr>\n",
              "      <th>22193</th>\n",
              "      <td>Robert Horton</td>\n",
              "      <td>fresh</td>\n",
              "      <td>128278</td>\n",
              "      <td>Film.com</td>\n",
              "      <td>Gooding is at his best!</td>\n",
              "      <td>2000-01-01</td>\n",
              "      <td>14302</td>\n",
              "      <td>Instinct</td>\n",
              "    </tr>\n",
              "    <tr>\n",
              "      <th>18203</th>\n",
              "      <td>Trevor Johnston</td>\n",
              "      <td>rotten</td>\n",
              "      <td>128442</td>\n",
              "      <td>Time Out</td>\n",
              "      <td>The end result is still short of a winning han...</td>\n",
              "      <td>2006-06-24</td>\n",
              "      <td>13868</td>\n",
              "      <td>Rounders</td>\n",
              "    </tr>\n",
              "    <tr>\n",
              "      <th>6212</th>\n",
              "      <td>Janet Maslin</td>\n",
              "      <td>fresh</td>\n",
              "      <td>83511</td>\n",
              "      <td>New York Times</td>\n",
              "      <td>[It] is more memorable for its characters than...</td>\n",
              "      <td>2004-08-30</td>\n",
              "      <td>13379</td>\n",
              "      <td>48 Hrs.</td>\n",
              "    </tr>\n",
              "    <tr>\n",
              "      <th>14593</th>\n",
              "      <td>Terry Lawson</td>\n",
              "      <td>rotten</td>\n",
              "      <td>315297</td>\n",
              "      <td>Detroit Free Press</td>\n",
              "      <td>The script is credited to Sarah Thorp but has ...</td>\n",
              "      <td>2004-02-27</td>\n",
              "      <td>14784</td>\n",
              "      <td>Twisted</td>\n",
              "    </tr>\n",
              "    <tr>\n",
              "      <th>211</th>\n",
              "      <td>Hal Hinson</td>\n",
              "      <td>rotten</td>\n",
              "      <td>112641</td>\n",
              "      <td>Washington Post</td>\n",
              "      <td>Scorsese may be flailing here, but Scorsese fl...</td>\n",
              "      <td>2006-08-09</td>\n",
              "      <td>13456</td>\n",
              "      <td>Casino</td>\n",
              "    </tr>\n",
              "    <tr>\n",
              "      <th>24287</th>\n",
              "      <td>James Berardinelli</td>\n",
              "      <td>fresh</td>\n",
              "      <td>86200</td>\n",
              "      <td>ReelViews</td>\n",
              "      <td>For writer/director Paul Brickman, this was a ...</td>\n",
              "      <td>2009-04-30</td>\n",
              "      <td>13296</td>\n",
              "      <td>Risky Business</td>\n",
              "    </tr>\n",
              "    <tr>\n",
              "      <th>8361</th>\n",
              "      <td>Variety Staff</td>\n",
              "      <td>fresh</td>\n",
              "      <td>26029</td>\n",
              "      <td>Variety</td>\n",
              "      <td>It's melodrama and at times far-fetched and im...</td>\n",
              "      <td>2008-08-18</td>\n",
              "      <td>17244</td>\n",
              "      <td>The 39 Steps</td>\n",
              "    </tr>\n",
              "    <tr>\n",
              "      <th>9473</th>\n",
              "      <td>Rene Rodriguez</td>\n",
              "      <td>fresh</td>\n",
              "      <td>272338</td>\n",
              "      <td>Miami Herald</td>\n",
              "      <td>Punch-Drunk Love knows how to reap epic deligh...</td>\n",
              "      <td>2002-10-25</td>\n",
              "      <td>13508</td>\n",
              "      <td>Punch-Drunk Love</td>\n",
              "    </tr>\n",
              "    <tr>\n",
              "      <th>17339</th>\n",
              "      <td>Jan Stuart</td>\n",
              "      <td>fresh</td>\n",
              "      <td>1075417</td>\n",
              "      <td>Washington Post</td>\n",
              "      <td>The movie has Johnson, who lifts the script ab...</td>\n",
              "      <td>2009-03-13</td>\n",
              "      <td>770685949</td>\n",
              "      <td>Race to Witch Mountain</td>\n",
              "    </tr>\n",
              "  </tbody>\n",
              "</table>\n",
              "</div>\n",
              "    <div class=\"colab-df-buttons\">\n",
              "\n",
              "  <div class=\"colab-df-container\">\n",
              "    <button class=\"colab-df-convert\" onclick=\"convertToInteractive('df-bfb02231-99ab-4e1e-8c08-97b34313f21a')\"\n",
              "            title=\"Convert this dataframe to an interactive table.\"\n",
              "            style=\"display:none;\">\n",
              "\n",
              "  <svg xmlns=\"http://www.w3.org/2000/svg\" height=\"24px\" viewBox=\"0 -960 960 960\">\n",
              "    <path d=\"M120-120v-720h720v720H120Zm60-500h600v-160H180v160Zm220 220h160v-160H400v160Zm0 220h160v-160H400v160ZM180-400h160v-160H180v160Zm440 0h160v-160H620v160ZM180-180h160v-160H180v160Zm440 0h160v-160H620v160Z\"/>\n",
              "  </svg>\n",
              "    </button>\n",
              "\n",
              "  <style>\n",
              "    .colab-df-container {\n",
              "      display:flex;\n",
              "      gap: 12px;\n",
              "    }\n",
              "\n",
              "    .colab-df-convert {\n",
              "      background-color: #E8F0FE;\n",
              "      border: none;\n",
              "      border-radius: 50%;\n",
              "      cursor: pointer;\n",
              "      display: none;\n",
              "      fill: #1967D2;\n",
              "      height: 32px;\n",
              "      padding: 0 0 0 0;\n",
              "      width: 32px;\n",
              "    }\n",
              "\n",
              "    .colab-df-convert:hover {\n",
              "      background-color: #E2EBFA;\n",
              "      box-shadow: 0px 1px 2px rgba(60, 64, 67, 0.3), 0px 1px 3px 1px rgba(60, 64, 67, 0.15);\n",
              "      fill: #174EA6;\n",
              "    }\n",
              "\n",
              "    .colab-df-buttons div {\n",
              "      margin-bottom: 4px;\n",
              "    }\n",
              "\n",
              "    [theme=dark] .colab-df-convert {\n",
              "      background-color: #3B4455;\n",
              "      fill: #D2E3FC;\n",
              "    }\n",
              "\n",
              "    [theme=dark] .colab-df-convert:hover {\n",
              "      background-color: #434B5C;\n",
              "      box-shadow: 0px 1px 3px 1px rgba(0, 0, 0, 0.15);\n",
              "      filter: drop-shadow(0px 1px 2px rgba(0, 0, 0, 0.3));\n",
              "      fill: #FFFFFF;\n",
              "    }\n",
              "  </style>\n",
              "\n",
              "    <script>\n",
              "      const buttonEl =\n",
              "        document.querySelector('#df-bfb02231-99ab-4e1e-8c08-97b34313f21a button.colab-df-convert');\n",
              "      buttonEl.style.display =\n",
              "        google.colab.kernel.accessAllowed ? 'block' : 'none';\n",
              "\n",
              "      async function convertToInteractive(key) {\n",
              "        const element = document.querySelector('#df-bfb02231-99ab-4e1e-8c08-97b34313f21a');\n",
              "        const dataTable =\n",
              "          await google.colab.kernel.invokeFunction('convertToInteractive',\n",
              "                                                    [key], {});\n",
              "        if (!dataTable) return;\n",
              "\n",
              "        const docLinkHtml = 'Like what you see? Visit the ' +\n",
              "          '<a target=\"_blank\" href=https://colab.research.google.com/notebooks/data_table.ipynb>data table notebook</a>'\n",
              "          + ' to learn more about interactive tables.';\n",
              "        element.innerHTML = '';\n",
              "        dataTable['output_type'] = 'display_data';\n",
              "        await google.colab.output.renderOutput(dataTable, element);\n",
              "        const docLink = document.createElement('div');\n",
              "        docLink.innerHTML = docLinkHtml;\n",
              "        element.appendChild(docLink);\n",
              "      }\n",
              "    </script>\n",
              "  </div>\n",
              "\n",
              "\n",
              "<div id=\"df-0a7b8138-c751-4d8d-b49c-b7ab21b089ac\">\n",
              "  <button class=\"colab-df-quickchart\" onclick=\"quickchart('df-0a7b8138-c751-4d8d-b49c-b7ab21b089ac')\"\n",
              "            title=\"Suggest charts\"\n",
              "            style=\"display:none;\">\n",
              "\n",
              "<svg xmlns=\"http://www.w3.org/2000/svg\" height=\"24px\"viewBox=\"0 0 24 24\"\n",
              "     width=\"24px\">\n",
              "    <g>\n",
              "        <path d=\"M19 3H5c-1.1 0-2 .9-2 2v14c0 1.1.9 2 2 2h14c1.1 0 2-.9 2-2V5c0-1.1-.9-2-2-2zM9 17H7v-7h2v7zm4 0h-2V7h2v10zm4 0h-2v-4h2v4z\"/>\n",
              "    </g>\n",
              "</svg>\n",
              "  </button>\n",
              "\n",
              "<style>\n",
              "  .colab-df-quickchart {\n",
              "      --bg-color: #E8F0FE;\n",
              "      --fill-color: #1967D2;\n",
              "      --hover-bg-color: #E2EBFA;\n",
              "      --hover-fill-color: #174EA6;\n",
              "      --disabled-fill-color: #AAA;\n",
              "      --disabled-bg-color: #DDD;\n",
              "  }\n",
              "\n",
              "  [theme=dark] .colab-df-quickchart {\n",
              "      --bg-color: #3B4455;\n",
              "      --fill-color: #D2E3FC;\n",
              "      --hover-bg-color: #434B5C;\n",
              "      --hover-fill-color: #FFFFFF;\n",
              "      --disabled-bg-color: #3B4455;\n",
              "      --disabled-fill-color: #666;\n",
              "  }\n",
              "\n",
              "  .colab-df-quickchart {\n",
              "    background-color: var(--bg-color);\n",
              "    border: none;\n",
              "    border-radius: 50%;\n",
              "    cursor: pointer;\n",
              "    display: none;\n",
              "    fill: var(--fill-color);\n",
              "    height: 32px;\n",
              "    padding: 0;\n",
              "    width: 32px;\n",
              "  }\n",
              "\n",
              "  .colab-df-quickchart:hover {\n",
              "    background-color: var(--hover-bg-color);\n",
              "    box-shadow: 0 1px 2px rgba(60, 64, 67, 0.3), 0 1px 3px 1px rgba(60, 64, 67, 0.15);\n",
              "    fill: var(--button-hover-fill-color);\n",
              "  }\n",
              "\n",
              "  .colab-df-quickchart-complete:disabled,\n",
              "  .colab-df-quickchart-complete:disabled:hover {\n",
              "    background-color: var(--disabled-bg-color);\n",
              "    fill: var(--disabled-fill-color);\n",
              "    box-shadow: none;\n",
              "  }\n",
              "\n",
              "  .colab-df-spinner {\n",
              "    border: 2px solid var(--fill-color);\n",
              "    border-color: transparent;\n",
              "    border-bottom-color: var(--fill-color);\n",
              "    animation:\n",
              "      spin 1s steps(1) infinite;\n",
              "  }\n",
              "\n",
              "  @keyframes spin {\n",
              "    0% {\n",
              "      border-color: transparent;\n",
              "      border-bottom-color: var(--fill-color);\n",
              "      border-left-color: var(--fill-color);\n",
              "    }\n",
              "    20% {\n",
              "      border-color: transparent;\n",
              "      border-left-color: var(--fill-color);\n",
              "      border-top-color: var(--fill-color);\n",
              "    }\n",
              "    30% {\n",
              "      border-color: transparent;\n",
              "      border-left-color: var(--fill-color);\n",
              "      border-top-color: var(--fill-color);\n",
              "      border-right-color: var(--fill-color);\n",
              "    }\n",
              "    40% {\n",
              "      border-color: transparent;\n",
              "      border-right-color: var(--fill-color);\n",
              "      border-top-color: var(--fill-color);\n",
              "    }\n",
              "    60% {\n",
              "      border-color: transparent;\n",
              "      border-right-color: var(--fill-color);\n",
              "    }\n",
              "    80% {\n",
              "      border-color: transparent;\n",
              "      border-right-color: var(--fill-color);\n",
              "      border-bottom-color: var(--fill-color);\n",
              "    }\n",
              "    90% {\n",
              "      border-color: transparent;\n",
              "      border-bottom-color: var(--fill-color);\n",
              "    }\n",
              "  }\n",
              "</style>\n",
              "\n",
              "  <script>\n",
              "    async function quickchart(key) {\n",
              "      const quickchartButtonEl =\n",
              "        document.querySelector('#' + key + ' button');\n",
              "      quickchartButtonEl.disabled = true;  // To prevent multiple clicks.\n",
              "      quickchartButtonEl.classList.add('colab-df-spinner');\n",
              "      try {\n",
              "        const charts = await google.colab.kernel.invokeFunction(\n",
              "            'suggestCharts', [key], {});\n",
              "      } catch (error) {\n",
              "        console.error('Error during call to suggestCharts:', error);\n",
              "      }\n",
              "      quickchartButtonEl.classList.remove('colab-df-spinner');\n",
              "      quickchartButtonEl.classList.add('colab-df-quickchart-complete');\n",
              "    }\n",
              "    (() => {\n",
              "      let quickchartButtonEl =\n",
              "        document.querySelector('#df-0a7b8138-c751-4d8d-b49c-b7ab21b089ac button');\n",
              "      quickchartButtonEl.style.display =\n",
              "        google.colab.kernel.accessAllowed ? 'block' : 'none';\n",
              "    })();\n",
              "  </script>\n",
              "</div>\n",
              "\n",
              "    </div>\n",
              "  </div>\n"
            ],
            "application/vnd.google.colaboratory.intrinsic+json": {
              "type": "dataframe",
              "repr_error": "0"
            }
          },
          "metadata": {},
          "execution_count": 3
        }
      ]
    },
    {
      "cell_type": "code",
      "source": [
        "n_reviews = len(critics)\n",
        "n_movies = critics.rtid.unique().size\n",
        "n_critics = critics.critic.unique().size\n",
        "\n",
        "\n",
        "print(\"Number of reviews: {:d}\".format(n_reviews))\n",
        "print(\"Number of critics: {:d}\".format(n_critics))\n",
        "print(\"Number of movies:  {:d}\".format(n_movies))"
      ],
      "metadata": {
        "colab": {
          "base_uri": "https://localhost:8080/"
        },
        "id": "nnQX7H9QMA52",
        "outputId": "27bb11c7-78ff-4fa4-df28-1946857d12cc"
      },
      "execution_count": 4,
      "outputs": [
        {
          "output_type": "stream",
          "name": "stdout",
          "text": [
            "Number of reviews: 15561\n",
            "Number of critics: 623\n",
            "Number of movies:  1921\n"
          ]
        }
      ]
    },
    {
      "cell_type": "code",
      "source": [
        "df = critics.copy()\n",
        "df['fresh'] = df.fresh == 'fresh'\n",
        "grp = df.groupby('critic')\n",
        "counts = grp.critic.count()  # number of reviews by each critic\n",
        "means = grp.fresh.mean()     # average freshness for each critic\n",
        "\n",
        "means[counts > 100].hist(bins=10, edgecolor='w', lw=1)\n",
        "plt.xlabel(\"Average Rating per critic\")\n",
        "plt.ylabel(\"Number of Critics\")\n",
        "plt.yticks([0, 2, 4, 6, 8, 10]);"
      ],
      "metadata": {
        "colab": {
          "base_uri": "https://localhost:8080/",
          "height": 495
        },
        "id": "MTeGT3sSMA9L",
        "outputId": "4899077b-4ec1-43ca-e676-940d79da4161"
      },
      "execution_count": 5,
      "outputs": [
        {
          "output_type": "display_data",
          "data": {
            "text/plain": [
              "<Figure size 640x480 with 1 Axes>"
            ],
            "image/png": "[encoded data removed]"
          },
          "metadata": {}
        }
      ]
    },
    {
      "cell_type": "code",
      "source": [
        "from sklearn.feature_extraction.text import CountVectorizer\n",
        "\n",
        "text = ['Hop on pop', 'Hop off pop', 'Hop Hop hop']\n",
        "print(\"Original text is\\n{}\".format('\\n'.join(text)))\n",
        "\n",
        "vectorizer = CountVectorizer()\n",
        "vectorizer.fit(text)\n",
        "\n",
        "x = vectorizer.transform(text)\n",
        "x = x.toarray()\n",
        "\n",
        "print(\"\")\n",
        "print(\"Transformed text vector is \\n{}\".format(x))\n",
        "print(\"\")\n",
        "print(\"Words for each feature:\")\n",
        "print(vectorizer.get_feature_names_out())\n"
      ],
      "metadata": {
        "colab": {
          "base_uri": "https://localhost:8080/"
        },
        "id": "CTxmVnOOMBAK",
        "outputId": "6135a89f-13c0-45bb-d73d-53522cb639a1"
      },
      "execution_count": 9,
      "outputs": [
        {
          "output_type": "stream",
          "name": "stdout",
          "text": [
            "Original text is\n",
            "Hop on pop\n",
            "Hop off pop\n",
            "Hop Hop hop\n",
            "\n",
            "Transformed text vector is \n",
            "[[1 0 1 1]\n",
            " [1 1 0 1]\n",
            " [3 0 0 0]]\n",
            "\n",
            "Words for each feature:\n",
            "['hop' 'off' 'on' 'pop']\n"
          ]
        }
      ]
    },
    {
      "cell_type": "code",
      "source": [
        "def make_xy(critics, vectorizer=None):\n",
        "    if vectorizer is None:\n",
        "        vectorizer = CountVectorizer()\n",
        "    X = vectorizer.fit_transform(critics.quote)\n",
        "    X = X.tocsc()  # some versions of sklearn return COO format\n",
        "    y = (critics.fresh == 'fresh').values.astype(int)  # Use int instead of np.int\n",
        "    return X, y"
      ],
      "metadata": {
        "id": "a3nA-0oOMBC_"
      },
      "execution_count": 11,
      "outputs": []
    },
    {
      "cell_type": "code",
      "source": [
        "from sklearn.naive_bayes import MultinomialNB\n",
        "from sklearn.model_selection import train_test_split\n",
        "from sklearn.feature_extraction.text import CountVectorizer\n",
        "\n",
        "# Assuming 'critics' is a DataFrame containing movie reviews, create X and y\n",
        "X, y = make_xy(critics)  # Call make_xy to generate X and y\n",
        "\n",
        "xtrain, xtest, ytrain, ytest = train_test_split(X, y)\n",
        "clf = MultinomialNB().fit(xtrain, ytrain)\n",
        "print(\"MN Accuracy: %0.2f%%\" % (100 * clf.score(xtest, ytest)))"
      ],
      "metadata": {
        "colab": {
          "base_uri": "https://localhost:8080/"
        },
        "id": "7KcSgbMRMBGd",
        "outputId": "401475d3-8b54-4312-980b-b82067a37850"
      },
      "execution_count": 34,
      "outputs": [
        {
          "output_type": "stream",
          "name": "stdout",
          "text": [
            "MN Accuracy: 77.74%\n"
          ]
        }
      ]
    },
    {
      "cell_type": "code",
      "source": [
        "training_accuracy = clf.score(xtrain, ytrain)\n",
        "test_accuracy = clf.score(xtest, ytest)\n",
        "\n",
        "print(\"Accuracy on training data: %0.2f\" % (training_accuracy))\n",
        "print(\"Accuracy on test data:     %0.2f\" % (test_accuracy))"
      ],
      "metadata": {
        "colab": {
          "base_uri": "https://localhost:8080/"
        },
        "id": "7__s5OtQWPdU",
        "outputId": "c24b384a-ab22-48f7-fd58-e44f937279b8"
      },
      "execution_count": 37,
      "outputs": [
        {
          "output_type": "stream",
          "name": "stdout",
          "text": [
            "Accuracy on training data: 0.92\n",
            "Accuracy on test data:     0.78\n"
          ]
        }
      ]
    },
    {
      "cell_type": "code",
      "source": [
        "xtrain"
      ],
      "metadata": {
        "colab": {
          "base_uri": "https://localhost:8080/"
        },
        "id": "euxut329WPgq",
        "outputId": "5eb3051c-ac1c-4dfd-f36d-81949b558754"
      },
      "execution_count": 38,
      "outputs": [
        {
          "output_type": "execute_result",
          "data": {
            "text/plain": [
              "<11670x22417 sparse matrix of type '<class 'numpy.int64'>'\n",
              "\twith 203796 stored elements in Compressed Sparse Row format>"
            ]
          },
          "metadata": {},
          "execution_count": 38
        }
      ]
    },
    {
      "cell_type": "code",
      "source": [
        "from sklearn.model_selection import KFold\n",
        "def cv_score(clf, X, y, scorefunc):\n",
        "    result = 0.\n",
        "    nfold = 5\n",
        "    for train, test in KFold(nfold).split(X): # split data into train/test groups, 5 times\n",
        "        clf.fit(X[train], y[train]) # fit the classifier, passed is as clf.\n",
        "        result += scorefunc(clf, X[test], y[test]) # evaluate score function on held-out data\n",
        "    return result / nfold # average"
      ],
      "metadata": {
        "id": "4MHNbBiBWPjt"
      },
      "execution_count": 39,
      "outputs": []
    },
    {
      "cell_type": "code",
      "source": [
        "def log_likelihood(clf, x, y):\n",
        "    prob = clf.predict_log_proba(x)\n",
        "    rotten = y == 0\n",
        "    fresh = ~rotten\n",
        "    return prob[rotten, 0].sum() + prob[fresh, 1].sum()"
      ],
      "metadata": {
        "id": "FN2ySn6BWPoT"
      },
      "execution_count": 40,
      "outputs": []
    },
    {
      "cell_type": "code",
      "source": [
        "from sklearn.model_selection import train_test_split\n",
        "_, itest = train_test_split(range(critics.shape[0]), train_size=0.7)\n",
        "mask = np.zeros(critics.shape[0], dtype=bool) # Use bool instead of np.bool\n",
        "mask[itest] = True"
      ],
      "metadata": {
        "id": "afSCHbBNWPr1"
      },
      "execution_count": 43,
      "outputs": []
    },
    {
      "cell_type": "code",
      "source": [
        "#the grid of parameters to search over\n",
        "alphas = [0, .1, 1, 5, 10, 50]\n",
        "min_dfs = [1e-5, 1e-4, 1e-3, 1e-2, 1e-1]\n",
        "\n",
        "#Find the best value for alpha and min_df, and the best classifier\n",
        "best_alpha = None\n",
        "best_min_df = None\n",
        "maxscore=-np.inf\n",
        "for alpha in alphas:\n",
        "    for min_df in min_dfs:\n",
        "        vectorizer = CountVectorizer(min_df = min_df)\n",
        "        Xthis, ythis = make_xy(critics, vectorizer)\n",
        "        Xtrainthis=Xthis[mask]\n",
        "        ytrainthis=ythis[mask]\n",
        "        clf = MultinomialNB(alpha=alpha)\n",
        "        cvscore = cv_score(clf, Xtrainthis, ytrainthis, log_likelihood)\n",
        "\n",
        "        if cvscore > maxscore:\n",
        "            maxscore = cvscore\n",
        "            best_alpha, best_min_df = alpha, min_df"
      ],
      "metadata": {
        "colab": {
          "base_uri": "https://localhost:8080/"
        },
        "id": "YYD7cJs9XCwA",
        "outputId": "6554a195-3d23-48fa-cc1d-97d36572d0b3"
      },
      "execution_count": 44,
      "outputs": [
        {
          "output_type": "stream",
          "name": "stderr",
          "text": [
            "/usr/local/lib/python3.10/dist-packages/sklearn/naive_bayes.py:629: FutureWarning: The default value for `force_alpha` will change to `True` in 1.4. To suppress this warning, manually set the value of `force_alpha`.\n",
            "  warnings.warn(\n",
            "/usr/local/lib/python3.10/dist-packages/sklearn/naive_bayes.py:635: UserWarning: alpha too small will result in numeric errors, setting alpha = 1.0e-10. Use `force_alpha=True` to keep alpha unchanged.\n",
            "  warnings.warn(\n",
            "/usr/local/lib/python3.10/dist-packages/sklearn/naive_bayes.py:629: FutureWarning: The default value for `force_alpha` will change to `True` in 1.4. To suppress this warning, manually set the value of `force_alpha`.\n",
            "  warnings.warn(\n",
            "/usr/local/lib/python3.10/dist-packages/sklearn/naive_bayes.py:635: UserWarning: alpha too small will result in numeric errors, setting alpha = 1.0e-10. Use `force_alpha=True` to keep alpha unchanged.\n",
            "  warnings.warn(\n",
            "/usr/local/lib/python3.10/dist-packages/sklearn/naive_bayes.py:629: FutureWarning: The default value for `force_alpha` will change to `True` in 1.4. To suppress this warning, manually set the value of `force_alpha`.\n",
            "  warnings.warn(\n",
            "/usr/local/lib/python3.10/dist-packages/sklearn/naive_bayes.py:635: UserWarning: alpha too small will result in numeric errors, setting alpha = 1.0e-10. Use `force_alpha=True` to keep alpha unchanged.\n",
            "  warnings.warn(\n",
            "/usr/local/lib/python3.10/dist-packages/sklearn/naive_bayes.py:629: FutureWarning: The default value for `force_alpha` will change to `True` in 1.4. To suppress this warning, manually set the value of `force_alpha`.\n",
            "  warnings.warn(\n",
            "/usr/local/lib/python3.10/dist-packages/sklearn/naive_bayes.py:635: UserWarning: alpha too small will result in numeric errors, setting alpha = 1.0e-10. Use `force_alpha=True` to keep alpha unchanged.\n",
            "  warnings.warn(\n",
            "/usr/local/lib/python3.10/dist-packages/sklearn/naive_bayes.py:629: FutureWarning: The default value for `force_alpha` will change to `True` in 1.4. To suppress this warning, manually set the value of `force_alpha`.\n",
            "  warnings.warn(\n",
            "/usr/local/lib/python3.10/dist-packages/sklearn/naive_bayes.py:635: UserWarning: alpha too small will result in numeric errors, setting alpha = 1.0e-10. Use `force_alpha=True` to keep alpha unchanged.\n",
            "  warnings.warn(\n",
            "/usr/local/lib/python3.10/dist-packages/sklearn/naive_bayes.py:629: FutureWarning: The default value for `force_alpha` will change to `True` in 1.4. To suppress this warning, manually set the value of `force_alpha`.\n",
            "  warnings.warn(\n",
            "/usr/local/lib/python3.10/dist-packages/sklearn/naive_bayes.py:635: UserWarning: alpha too small will result in numeric errors, setting alpha = 1.0e-10. Use `force_alpha=True` to keep alpha unchanged.\n",
            "  warnings.warn(\n",
            "/usr/local/lib/python3.10/dist-packages/sklearn/naive_bayes.py:629: FutureWarning: The default value for `force_alpha` will change to `True` in 1.4. To suppress this warning, manually set the value of `force_alpha`.\n",
            "  warnings.warn(\n",
            "/usr/local/lib/python3.10/dist-packages/sklearn/naive_bayes.py:635: UserWarning: alpha too small will result in numeric errors, setting alpha = 1.0e-10. Use `force_alpha=True` to keep alpha unchanged.\n",
            "  warnings.warn(\n",
            "/usr/local/lib/python3.10/dist-packages/sklearn/naive_bayes.py:629: FutureWarning: The default value for `force_alpha` will change to `True` in 1.4. To suppress this warning, manually set the value of `force_alpha`.\n",
            "  warnings.warn(\n",
            "/usr/local/lib/python3.10/dist-packages/sklearn/naive_bayes.py:635: UserWarning: alpha too small will result in numeric errors, setting alpha = 1.0e-10. Use `force_alpha=True` to keep alpha unchanged.\n",
            "  warnings.warn(\n",
            "/usr/local/lib/python3.10/dist-packages/sklearn/naive_bayes.py:629: FutureWarning: The default value for `force_alpha` will change to `True` in 1.4. To suppress this warning, manually set the value of `force_alpha`.\n",
            "  warnings.warn(\n",
            "/usr/local/lib/python3.10/dist-packages/sklearn/naive_bayes.py:635: UserWarning: alpha too small will result in numeric errors, setting alpha = 1.0e-10. Use `force_alpha=True` to keep alpha unchanged.\n",
            "  warnings.warn(\n",
            "/usr/local/lib/python3.10/dist-packages/sklearn/naive_bayes.py:629: FutureWarning: The default value for `force_alpha` will change to `True` in 1.4. To suppress this warning, manually set the value of `force_alpha`.\n",
            "  warnings.warn(\n",
            "/usr/local/lib/python3.10/dist-packages/sklearn/naive_bayes.py:635: UserWarning: alpha too small will result in numeric errors, setting alpha = 1.0e-10. Use `force_alpha=True` to keep alpha unchanged.\n",
            "  warnings.warn(\n",
            "/usr/local/lib/python3.10/dist-packages/sklearn/naive_bayes.py:629: FutureWarning: The default value for `force_alpha` will change to `True` in 1.4. To suppress this warning, manually set the value of `force_alpha`.\n",
            "  warnings.warn(\n",
            "/usr/local/lib/python3.10/dist-packages/sklearn/naive_bayes.py:635: UserWarning: alpha too small will result in numeric errors, setting alpha = 1.0e-10. Use `force_alpha=True` to keep alpha unchanged.\n",
            "  warnings.warn(\n",
            "/usr/local/lib/python3.10/dist-packages/sklearn/naive_bayes.py:629: FutureWarning: The default value for `force_alpha` will change to `True` in 1.4. To suppress this warning, manually set the value of `force_alpha`.\n",
            "  warnings.warn(\n",
            "/usr/local/lib/python3.10/dist-packages/sklearn/naive_bayes.py:635: UserWarning: alpha too small will result in numeric errors, setting alpha = 1.0e-10. Use `force_alpha=True` to keep alpha unchanged.\n",
            "  warnings.warn(\n",
            "/usr/local/lib/python3.10/dist-packages/sklearn/naive_bayes.py:629: FutureWarning: The default value for `force_alpha` will change to `True` in 1.4. To suppress this warning, manually set the value of `force_alpha`.\n",
            "  warnings.warn(\n",
            "/usr/local/lib/python3.10/dist-packages/sklearn/naive_bayes.py:635: UserWarning: alpha too small will result in numeric errors, setting alpha = 1.0e-10. Use `force_alpha=True` to keep alpha unchanged.\n",
            "  warnings.warn(\n",
            "/usr/local/lib/python3.10/dist-packages/sklearn/naive_bayes.py:629: FutureWarning: The default value for `force_alpha` will change to `True` in 1.4. To suppress this warning, manually set the value of `force_alpha`.\n",
            "  warnings.warn(\n",
            "/usr/local/lib/python3.10/dist-packages/sklearn/naive_bayes.py:635: UserWarning: alpha too small will result in numeric errors, setting alpha = 1.0e-10. Use `force_alpha=True` to keep alpha unchanged.\n",
            "  warnings.warn(\n",
            "/usr/local/lib/python3.10/dist-packages/sklearn/naive_bayes.py:629: FutureWarning: The default value for `force_alpha` will change to `True` in 1.4. To suppress this warning, manually set the value of `force_alpha`.\n",
            "  warnings.warn(\n",
            "/usr/local/lib/python3.10/dist-packages/sklearn/naive_bayes.py:635: UserWarning: alpha too small will result in numeric errors, setting alpha = 1.0e-10. Use `force_alpha=True` to keep alpha unchanged.\n",
            "  warnings.warn(\n",
            "/usr/local/lib/python3.10/dist-packages/sklearn/naive_bayes.py:629: FutureWarning: The default value for `force_alpha` will change to `True` in 1.4. To suppress this warning, manually set the value of `force_alpha`.\n",
            "  warnings.warn(\n",
            "/usr/local/lib/python3.10/dist-packages/sklearn/naive_bayes.py:635: UserWarning: alpha too small will result in numeric errors, setting alpha = 1.0e-10. Use `force_alpha=True` to keep alpha unchanged.\n",
            "  warnings.warn(\n",
            "/usr/local/lib/python3.10/dist-packages/sklearn/naive_bayes.py:629: FutureWarning: The default value for `force_alpha` will change to `True` in 1.4. To suppress this warning, manually set the value of `force_alpha`.\n",
            "  warnings.warn(\n",
            "/usr/local/lib/python3.10/dist-packages/sklearn/naive_bayes.py:635: UserWarning: alpha too small will result in numeric errors, setting alpha = 1.0e-10. Use `force_alpha=True` to keep alpha unchanged.\n",
            "  warnings.warn(\n",
            "/usr/local/lib/python3.10/dist-packages/sklearn/naive_bayes.py:629: FutureWarning: The default value for `force_alpha` will change to `True` in 1.4. To suppress this warning, manually set the value of `force_alpha`.\n",
            "  warnings.warn(\n",
            "/usr/local/lib/python3.10/dist-packages/sklearn/naive_bayes.py:635: UserWarning: alpha too small will result in numeric errors, setting alpha = 1.0e-10. Use `force_alpha=True` to keep alpha unchanged.\n",
            "  warnings.warn(\n",
            "/usr/local/lib/python3.10/dist-packages/sklearn/naive_bayes.py:629: FutureWarning: The default value for `force_alpha` will change to `True` in 1.4. To suppress this warning, manually set the value of `force_alpha`.\n",
            "  warnings.warn(\n",
            "/usr/local/lib/python3.10/dist-packages/sklearn/naive_bayes.py:635: UserWarning: alpha too small will result in numeric errors, setting alpha = 1.0e-10. Use `force_alpha=True` to keep alpha unchanged.\n",
            "  warnings.warn(\n",
            "/usr/local/lib/python3.10/dist-packages/sklearn/naive_bayes.py:629: FutureWarning: The default value for `force_alpha` will change to `True` in 1.4. To suppress this warning, manually set the value of `force_alpha`.\n",
            "  warnings.warn(\n",
            "/usr/local/lib/python3.10/dist-packages/sklearn/naive_bayes.py:635: UserWarning: alpha too small will result in numeric errors, setting alpha = 1.0e-10. Use `force_alpha=True` to keep alpha unchanged.\n",
            "  warnings.warn(\n",
            "/usr/local/lib/python3.10/dist-packages/sklearn/naive_bayes.py:629: FutureWarning: The default value for `force_alpha` will change to `True` in 1.4. To suppress this warning, manually set the value of `force_alpha`.\n",
            "  warnings.warn(\n",
            "/usr/local/lib/python3.10/dist-packages/sklearn/naive_bayes.py:635: UserWarning: alpha too small will result in numeric errors, setting alpha = 1.0e-10. Use `force_alpha=True` to keep alpha unchanged.\n",
            "  warnings.warn(\n",
            "/usr/local/lib/python3.10/dist-packages/sklearn/naive_bayes.py:629: FutureWarning: The default value for `force_alpha` will change to `True` in 1.4. To suppress this warning, manually set the value of `force_alpha`.\n",
            "  warnings.warn(\n",
            "/usr/local/lib/python3.10/dist-packages/sklearn/naive_bayes.py:635: UserWarning: alpha too small will result in numeric errors, setting alpha = 1.0e-10. Use `force_alpha=True` to keep alpha unchanged.\n",
            "  warnings.warn(\n",
            "/usr/local/lib/python3.10/dist-packages/sklearn/naive_bayes.py:629: FutureWarning: The default value for `force_alpha` will change to `True` in 1.4. To suppress this warning, manually set the value of `force_alpha`.\n",
            "  warnings.warn(\n",
            "/usr/local/lib/python3.10/dist-packages/sklearn/naive_bayes.py:635: UserWarning: alpha too small will result in numeric errors, setting alpha = 1.0e-10. Use `force_alpha=True` to keep alpha unchanged.\n",
            "  warnings.warn(\n",
            "/usr/local/lib/python3.10/dist-packages/sklearn/naive_bayes.py:629: FutureWarning: The default value for `force_alpha` will change to `True` in 1.4. To suppress this warning, manually set the value of `force_alpha`.\n",
            "  warnings.warn(\n",
            "/usr/local/lib/python3.10/dist-packages/sklearn/naive_bayes.py:635: UserWarning: alpha too small will result in numeric errors, setting alpha = 1.0e-10. Use `force_alpha=True` to keep alpha unchanged.\n",
            "  warnings.warn(\n",
            "/usr/local/lib/python3.10/dist-packages/sklearn/naive_bayes.py:629: FutureWarning: The default value for `force_alpha` will change to `True` in 1.4. To suppress this warning, manually set the value of `force_alpha`.\n",
            "  warnings.warn(\n",
            "/usr/local/lib/python3.10/dist-packages/sklearn/naive_bayes.py:635: UserWarning: alpha too small will result in numeric errors, setting alpha = 1.0e-10. Use `force_alpha=True` to keep alpha unchanged.\n",
            "  warnings.warn(\n"
          ]
        }
      ]
    },
    {
      "cell_type": "code",
      "source": [
        "print(\"alpha: %f\" % best_alpha)\n",
        "print(\"min_df: %f\" % best_min_df)"
      ],
      "metadata": {
        "colab": {
          "base_uri": "https://localhost:8080/"
        },
        "id": "hrCeQAkdXCzY",
        "outputId": "0f5dc492-4126-45be-a8d8-301e8ba91d7f"
      },
      "execution_count": 46,
      "outputs": [
        {
          "output_type": "stream",
          "name": "stdout",
          "text": [
            "alpha: 5.000000\n",
            "min_df: 0.001000\n"
          ]
        }
      ]
    },
    {
      "cell_type": "code",
      "source": [
        "print(\"alpha: {}\".format(best_alpha))"
      ],
      "metadata": {
        "colab": {
          "base_uri": "https://localhost:8080/"
        },
        "id": "LHLZH7eDXC2g",
        "outputId": "adf2e657-f06c-4615-fccb-6497b5b5469a"
      },
      "execution_count": 47,
      "outputs": [
        {
          "output_type": "stream",
          "name": "stdout",
          "text": [
            "alpha: 5\n"
          ]
        }
      ]
    },
    {
      "cell_type": "code",
      "source": [
        "vectorizer = CountVectorizer(min_df=best_min_df)\n",
        "X, y = make_xy(critics, vectorizer)\n",
        "xtrain=X[mask]\n",
        "ytrain=y[mask]\n",
        "xtest=X[~mask]\n",
        "ytest=y[~mask]\n",
        "\n",
        "clf = MultinomialNB(alpha=best_alpha).fit(xtrain, ytrain)\n",
        "\n",
        "#your turn. Print the accuracy on the test and training dataset\n",
        "training_accuracy = clf.score(xtrain, ytrain)\n",
        "test_accuracy = clf.score(xtest, ytest)\n",
        "\n",
        "print(\"Accuracy on training data: {:2f}\".format(training_accuracy))\n",
        "print(\"Accuracy on test data:     {:2f}\".format(test_accuracy))"
      ],
      "metadata": {
        "colab": {
          "base_uri": "https://localhost:8080/"
        },
        "id": "27CZS3mdXC54",
        "outputId": "65807531-7bbf-4ea3-f822-aad295570ddf"
      },
      "execution_count": 48,
      "outputs": [
        {
          "output_type": "stream",
          "name": "stdout",
          "text": [
            "Accuracy on training data: 0.806383\n",
            "Accuracy on test data:     0.719152\n"
          ]
        }
      ]
    },
    {
      "cell_type": "code",
      "source": [
        "from sklearn.metrics import confusion_matrix\n",
        "print(confusion_matrix(ytest, clf.predict(xtest)))"
      ],
      "metadata": {
        "colab": {
          "base_uri": "https://localhost:8080/"
        },
        "id": "zBXM1YkKYA0o",
        "outputId": "f88adbd9-03f8-4b32-bf51-813c742d86ed"
      },
      "execution_count": 49,
      "outputs": [
        {
          "output_type": "stream",
          "name": "stdout",
          "text": [
            "[[2084 2172]\n",
            " [ 887 5749]]\n"
          ]
        }
      ]
    },
    {
      "cell_type": "code",
      "source": [
        "words = np.array(vectorizer.get_feature_names_out()) # Use get_feature_names_out()\n",
        "\n",
        "x = np.eye(xtest.shape[1])\n",
        "probs = clf.predict_log_proba(x)[:, 0]\n",
        "ind = np.argsort(probs)\n",
        "\n",
        "good_words = words[ind[:10]]\n",
        "bad_words = words[ind[-10:]]\n",
        "\n",
        "good_prob = probs[ind[:10]]\n",
        "bad_prob = probs[ind[-10:]]\n",
        "\n",
        "print(\"Good words\\t     P(fresh | word)\")\n",
        "for w, p in zip(good_words, good_prob):\n",
        "    print(\"{:>20}\".format(w), \"{:.2f}\".format(1 - np.exp(p)))\n",
        "\n",
        "print(\"Bad words\\t     P(fresh | word)\")\n",
        "for w, p in zip(bad_words, bad_prob):\n",
        "    print(\"{:>20}\".format(w), \"{:.2f}\".format(1 - np.exp(p)))"
      ],
      "metadata": {
        "colab": {
          "base_uri": "https://localhost:8080/"
        },
        "id": "C3gy99WLYA36",
        "outputId": "9d7c63f9-b40e-4901-f669-6dff5545464f"
      },
      "execution_count": 51,
      "outputs": [
        {
          "output_type": "stream",
          "name": "stdout",
          "text": [
            "Good words\t     P(fresh | word)\n",
            "        entertaining 0.88\n",
            "          impressive 0.84\n",
            "         intelligent 0.84\n",
            "               years 0.84\n",
            "            powerful 0.83\n",
            "         performance 0.83\n",
            "              beauty 0.83\n",
            "         masterpiece 0.83\n",
            "            touching 0.82\n",
            "             perfect 0.82\n",
            "Bad words\t     P(fresh | word)\n",
            "             muddled 0.30\n",
            "          uninspired 0.30\n",
            "                dull 0.29\n",
            "             trouble 0.28\n",
            "              barely 0.28\n",
            "       unfortunately 0.28\n",
            "               lacks 0.28\n",
            "           pointless 0.26\n",
            "               video 0.25\n",
            "             numbers 0.25\n"
          ]
        }
      ]
    },
    {
      "cell_type": "code",
      "source": [
        "x, y = make_xy(critics, vectorizer)\n",
        "\n",
        "prob = clf.predict_proba(x)[:, 0]\n",
        "predict = clf.predict(x)\n",
        "\n",
        "bad_rotten = np.argsort(prob[y == 0])[:5]\n",
        "bad_fresh = np.argsort(prob[y == 1])[-5:]\n",
        "\n",
        "print(\"Mis-predicted Rotten quotes\")\n",
        "print('---------------------------')\n",
        "for row in bad_rotten:\n",
        "    print(critics[y == 0].quote.iloc[row])\n",
        "    print(\"\")\n",
        "\n",
        "print(\"Mis-predicted Fresh quotes\")\n",
        "print('--------------------------')\n",
        "for row in bad_fresh:\n",
        "    print(critics[y == 1].quote.iloc[row])\n",
        "    print(\"\")"
      ],
      "metadata": {
        "colab": {
          "base_uri": "https://localhost:8080/"
        },
        "id": "l_kugiHKYA60",
        "outputId": "77e5d056-4dfc-4c72-a594-e4815c4e1bc4"
      },
      "execution_count": 52,
      "outputs": [
        {
          "output_type": "stream",
          "name": "stdout",
          "text": [
            "Mis-predicted Rotten quotes\n",
            "---------------------------\n",
            "The plot of The Glimmer Man involves not only the Family Man but Our Evil Secret Government, the Russian Mafia and Rich Powerful Politicians -- the three stooges of action cinema in the '90s.\n",
            "\n",
            "Part comedy, part family drama, part romance, part special-effects mystery-adventure, and not entirely satisfying on any of these levels.\n",
            "\n",
            "Benefits from a lively lead performance by the miscast Denzel Washington but doesn't come within light years of the book, one of the greatest American autobiographies.\n",
            "\n",
            "It's a sad day when an actor who's totally, beautifully in touch with his dark side finds himself stuck in a movie that's scared of its own shadow.\n",
            "\n",
            "It is sometimes funny in a puzzling kind of way, it is generally overwrought in an irritating kind of way, and once in a while it is inappropriately touching.\n",
            "\n",
            "Mis-predicted Fresh quotes\n",
            "--------------------------\n",
            "Though it's a good half hour too long, this overblown 1993 spin-off of the 60s TV show otherwise adds up to a pretty good suspense thriller.\n",
            "\n",
            "Might it be a serious attempt to right some unretrievable wrong via gallows humor which avoids the polemics? This seems to be the course taken; the attempt at least can be respected in theory.\n",
            "\n",
            "This tough-to-peg whodunit keeps you going for two hours, despite a few James Bond-ish (or Jane Bond-ish) turns that play less preposterously than you might assume were they to be divulged.\n",
            "\n",
            "Considering the recent screen standards in book musicals with five numbers for 100 to 110 minutes of running time this Metro Santaclausing of numbers becomes virtually a double-feature filmusical.\n",
            "\n",
            "There's too much talent and too strong a story to mess it up. There was potential for more here, but this incarnation is nothing to be ashamed of, and some of the actors answer the bell.\n",
            "\n"
          ]
        }
      ]
    },
    {
      "cell_type": "code",
      "source": [
        "clf.predict_proba(vectorizer.transform(['This movie is not remarkable, touching, or superb in any way']))"
      ],
      "metadata": {
        "colab": {
          "base_uri": "https://localhost:8080/"
        },
        "id": "FLanY-SLYoFQ",
        "outputId": "daf1e292-88b1-4367-9e05-942a49de2d8c"
      },
      "execution_count": 53,
      "outputs": [
        {
          "output_type": "execute_result",
          "data": {
            "text/plain": [
              "array([[0.05568316, 0.94431684]])"
            ]
          },
          "metadata": {},
          "execution_count": 53
        }
      ]
    },
    {
      "cell_type": "code",
      "source": [
        "from sklearn.feature_extraction.text import TfidfVectorizer\n",
        "tfidfvectorizer = TfidfVectorizer(min_df=1, stop_words='english')\n",
        "Xtfidf=tfidfvectorizer.fit_transform(critics.quote)"
      ],
      "metadata": {
        "id": "6Eo9KUubYA9l"
      },
      "execution_count": 54,
      "outputs": []
    },
    {
      "cell_type": "code",
      "source": [
        "Xtfidf[0].toarray()"
      ],
      "metadata": {
        "colab": {
          "base_uri": "https://localhost:8080/"
        },
        "id": "Nu1YyBhTYBA1",
        "outputId": "a972fdf8-6f49-4a31-8cea-5fbbb762c651"
      },
      "execution_count": 55,
      "outputs": [
        {
          "output_type": "execute_result",
          "data": {
            "text/plain": [
              "array([[0., 0., 0., ..., 0., 0., 0.]])"
            ]
          },
          "metadata": {},
          "execution_count": 55
        }
      ]
    },
    {
      "cell_type": "code",
      "source": [
        "Xtfidf.shape"
      ],
      "metadata": {
        "colab": {
          "base_uri": "https://localhost:8080/"
        },
        "id": "5sJChzwnY20x",
        "outputId": "24fd1a61-9e58-4659-b66f-6d438a1d2bc8"
      },
      "execution_count": 56,
      "outputs": [
        {
          "output_type": "execute_result",
          "data": {
            "text/plain": [
              "(15561, 22125)"
            ]
          },
          "metadata": {},
          "execution_count": 56
        }
      ]
    },
    {
      "cell_type": "code",
      "source": [
        "import gensim"
      ],
      "metadata": {
        "id": "qRxBGflIY3Bl"
      },
      "execution_count": 57,
      "outputs": []
    },
    {
      "cell_type": "code",
      "source": [
        "vectorizer = CountVectorizer(min_df=1, stop_words='english')\n",
        "X=vectorizer.fit_transform(critics.quote)"
      ],
      "metadata": {
        "id": "ZLDW2fAtZBrY"
      },
      "execution_count": 58,
      "outputs": []
    },
    {
      "cell_type": "code",
      "source": [
        "corpus=vectorizer.get_feature_names_out() # Use get_feature_names_out() instead of get_feature_names()\n",
        "id2words = dict((v, k) for k, v in vectorizer.vocabulary_.items()) # Use .items() instead of .iteritems() for compatibility\n",
        "corpus_gensim = gensim.matutils.Sparse2Corpus(X, documents_columns=False)"
      ],
      "metadata": {
        "id": "9Ucv8FSiZBu9"
      },
      "execution_count": 60,
      "outputs": []
    },
    {
      "cell_type": "code",
      "source": [
        "lda = gensim.models.ldamodel.LdaModel(corpus_gensim, id2word=id2words, num_topics=5, update_every=1, chunksize=1000, passes=1)"
      ],
      "metadata": {
        "id": "eH6rT7_tZByF"
      },
      "execution_count": 61,
      "outputs": []
    },
    {
      "cell_type": "code",
      "source": [
        "lda.print_topics()"
      ],
      "metadata": {
        "colab": {
          "base_uri": "https://localhost:8080/"
        },
        "id": "OUdEt4hPZB3N",
        "outputId": "836bebaa-9beb-48a4-922c-094de6b01e07"
      },
      "execution_count": 62,
      "outputs": [
        {
          "output_type": "execute_result",
          "data": {
            "text/plain": [
              "[(0,\n",
              "  '0.017*\"movie\" + 0.010*\"film\" + 0.008*\"funny\" + 0.006*\"little\" + 0.005*\"like\" + 0.004*\"story\" + 0.004*\"performances\" + 0.004*\"isn\" + 0.004*\"just\" + 0.003*\"compelling\"'),\n",
              " (1,\n",
              "  '0.014*\"film\" + 0.013*\"movie\" + 0.009*\"comedy\" + 0.008*\"best\" + 0.005*\"new\" + 0.005*\"funny\" + 0.005*\"ve\" + 0.005*\"world\" + 0.004*\"year\" + 0.004*\"like\"'),\n",
              " (2,\n",
              "  '0.019*\"film\" + 0.010*\"good\" + 0.010*\"movie\" + 0.005*\"really\" + 0.005*\"make\" + 0.005*\"great\" + 0.004*\"self\" + 0.004*\"big\" + 0.004*\"just\" + 0.004*\"bad\"'),\n",
              " (3,\n",
              "  '0.014*\"film\" + 0.014*\"movie\" + 0.008*\"time\" + 0.008*\"director\" + 0.007*\"like\" + 0.006*\"characters\" + 0.005*\"story\" + 0.005*\"fun\" + 0.005*\"character\" + 0.005*\"make\"'),\n",
              " (4,\n",
              "  '0.013*\"movie\" + 0.007*\"film\" + 0.005*\"comedy\" + 0.005*\"effects\" + 0.004*\"gone\" + 0.004*\"sweet\" + 0.004*\"low\" + 0.004*\"special\" + 0.003*\"look\" + 0.003*\"hilarious\"')]"
            ]
          },
          "metadata": {},
          "execution_count": 62
        }
      ]
    }
  ]
}